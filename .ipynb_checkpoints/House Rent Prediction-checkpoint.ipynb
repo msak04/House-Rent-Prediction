{
 "cells": [
  {
   "cell_type": "markdown",
   "id": "1c0c8fe6",
   "metadata": {},
   "source": [
    "# House Rent Prediction"
   ]
  },
  {
   "cell_type": "markdown",
   "id": "7084869a",
   "metadata": {},
   "source": [
    "by Md. Saif Ahammod Khan"
   ]
  },
  {
   "cell_type": "markdown",
   "id": "0c3e7e1c",
   "metadata": {},
   "source": [
    "### Import liberary"
   ]
  },
  {
   "cell_type": "code",
   "execution_count": 1,
   "id": "c1bb083a",
   "metadata": {},
   "outputs": [],
   "source": [
    "import pandas as pd\n",
    "import numpy as np"
   ]
  },
  {
   "cell_type": "markdown",
   "id": "b38065d1",
   "metadata": {},
   "source": [
    "### 1. Data Set \n",
    "We have collected two dataset from Bproperties\n",
    "1. In BpropertyManualData.csv dataset we collected manually nearby educational istitute,Medical Service, Park and Resturent Information.\n",
    "2. In BpropertyWebScrapping.csv We collected akk the house location in dhaka city\n",
    "\n",
    "After Collecting all these two dataset we marged them and made a one singel dataset named \"Primarydata\""
   ]
  },
  {
   "cell_type": "code",
   "execution_count": 6,
   "id": "2c8bfe19",
   "metadata": {},
   "outputs": [
    {
     "name": "stdout",
     "output_type": "stream",
     "text": [
      "(896, 5)\n"
     ]
    },
    {
     "data": {
      "text/html": [
       "<div>\n",
       "<style scoped>\n",
       "    .dataframe tbody tr th:only-of-type {\n",
       "        vertical-align: middle;\n",
       "    }\n",
       "\n",
       "    .dataframe tbody tr th {\n",
       "        vertical-align: top;\n",
       "    }\n",
       "\n",
       "    .dataframe thead th {\n",
       "        text-align: right;\n",
       "    }\n",
       "</style>\n",
       "<table border=\"1\" class=\"dataframe\">\n",
       "  <thead>\n",
       "    <tr style=\"text-align: right;\">\n",
       "      <th></th>\n",
       "      <th>Adress</th>\n",
       "      <th>Educational Institute</th>\n",
       "      <th>Restaurants</th>\n",
       "      <th>Medical Service</th>\n",
       "      <th>Parks</th>\n",
       "    </tr>\n",
       "  </thead>\n",
       "  <tbody>\n",
       "    <tr>\n",
       "      <th>0</th>\n",
       "      <td>1st Colony, Mirpur, Dhaka</td>\n",
       "      <td>28.0</td>\n",
       "      <td>12.0</td>\n",
       "      <td>24.0</td>\n",
       "      <td>16.0</td>\n",
       "    </tr>\n",
       "    <tr>\n",
       "      <th>1</th>\n",
       "      <td>22 Bari, West Kazipara, Mirpur, Dhaka</td>\n",
       "      <td>47.0</td>\n",
       "      <td>50.0</td>\n",
       "      <td>6.0</td>\n",
       "      <td>18.0</td>\n",
       "    </tr>\n",
       "    <tr>\n",
       "      <th>2</th>\n",
       "      <td>2nd Colony, Mirpur, Dhaka</td>\n",
       "      <td>15.0</td>\n",
       "      <td>24.0</td>\n",
       "      <td>2.0</td>\n",
       "      <td>13.0</td>\n",
       "    </tr>\n",
       "    <tr>\n",
       "      <th>3</th>\n",
       "      <td>2nd Lane, Gopibag, Motijheel, Dhaka</td>\n",
       "      <td>9.0</td>\n",
       "      <td>15.0</td>\n",
       "      <td>1.0</td>\n",
       "      <td>17.0</td>\n",
       "    </tr>\n",
       "    <tr>\n",
       "      <th>4</th>\n",
       "      <td>3rd Colony, Mirpur, Dhaka</td>\n",
       "      <td>24.0</td>\n",
       "      <td>29.0</td>\n",
       "      <td>5.0</td>\n",
       "      <td>12.0</td>\n",
       "    </tr>\n",
       "  </tbody>\n",
       "</table>\n",
       "</div>"
      ],
      "text/plain": [
       "                                  Adress  Educational Institute  Restaurants  \\\n",
       "0              1st Colony, Mirpur, Dhaka                   28.0         12.0   \n",
       "1  22 Bari, West Kazipara, Mirpur, Dhaka                   47.0         50.0   \n",
       "2              2nd Colony, Mirpur, Dhaka                   15.0         24.0   \n",
       "3    2nd Lane, Gopibag, Motijheel, Dhaka                    9.0         15.0   \n",
       "4              3rd Colony, Mirpur, Dhaka                   24.0         29.0   \n",
       "\n",
       "   Medical Service  Parks  \n",
       "0             24.0   16.0  \n",
       "1              6.0   18.0  \n",
       "2              2.0   13.0  \n",
       "3              1.0   17.0  \n",
       "4              5.0   12.0  "
      ]
     },
     "execution_count": 6,
     "metadata": {},
     "output_type": "execute_result"
    }
   ],
   "source": [
    "#Load Manual Data\n",
    "Manual_data = pd.read_csv('BpropertyManualData.csv') # raw_data is the panda's dataframe\n",
    "\n",
    "# print the shape\n",
    "print(Manual_data.shape)\n",
    "\n",
    "#runs the first 5 rows\n",
    "Manual_data.head()"
   ]
  },
  {
   "cell_type": "code",
   "execution_count": 7,
   "id": "542eeebb",
   "metadata": {},
   "outputs": [
    {
     "name": "stdout",
     "output_type": "stream",
     "text": [
      "(38189, 11)\n"
     ]
    },
    {
     "data": {
      "text/html": [
       "<div>\n",
       "<style scoped>\n",
       "    .dataframe tbody tr th:only-of-type {\n",
       "        vertical-align: middle;\n",
       "    }\n",
       "\n",
       "    .dataframe tbody tr th {\n",
       "        vertical-align: top;\n",
       "    }\n",
       "\n",
       "    .dataframe thead th {\n",
       "        text-align: right;\n",
       "    }\n",
       "</style>\n",
       "<table border=\"1\" class=\"dataframe\">\n",
       "  <thead>\n",
       "    <tr style=\"text-align: right;\">\n",
       "      <th></th>\n",
       "      <th>Brief</th>\n",
       "      <th>Link</th>\n",
       "      <th>Price</th>\n",
       "      <th>Adress</th>\n",
       "      <th>Type</th>\n",
       "      <th>Details</th>\n",
       "      <th>Beds</th>\n",
       "      <th>Bath</th>\n",
       "      <th>Size</th>\n",
       "      <th>Image Link</th>\n",
       "      <th>Image Link 2</th>\n",
       "    </tr>\n",
       "  </thead>\n",
       "  <tbody>\n",
       "    <tr>\n",
       "      <th>0</th>\n",
       "      <td>{\"@context\":\"https://schema.org\",\"@type\":\"Apar...</td>\n",
       "      <td>https://www.bproperty.com/en/property/details-...</td>\n",
       "      <td>45000</td>\n",
       "      <td>Dhanmondi, Dhaka</td>\n",
       "      <td>Apartment</td>\n",
       "      <td>1616 Sq Ft Nice Apartment Is For Rent In Dhanm...</td>\n",
       "      <td>3.0</td>\n",
       "      <td>3.0</td>\n",
       "      <td>1616</td>\n",
       "      <td>NaN</td>\n",
       "      <td>NaN</td>\n",
       "    </tr>\n",
       "    <tr>\n",
       "      <th>1</th>\n",
       "      <td>{\"@context\":\"https://schema.org\",\"@type\":\"Apar...</td>\n",
       "      <td>https://www.bproperty.com/en/property/details-...</td>\n",
       "      <td>25000</td>\n",
       "      <td>Block I, Bashundhara R-A, Dhaka</td>\n",
       "      <td>Apartment</td>\n",
       "      <td>A Must See This Apartment For Rent Is All Set ...</td>\n",
       "      <td>3.0</td>\n",
       "      <td>4.0</td>\n",
       "      <td>1500</td>\n",
       "      <td>NaN</td>\n",
       "      <td>NaN</td>\n",
       "    </tr>\n",
       "    <tr>\n",
       "      <th>2</th>\n",
       "      <td>{\"@context\":\"https://schema.org\",\"@type\":\"Resi...</td>\n",
       "      <td>https://www.bproperty.com/en/property/details-...</td>\n",
       "      <td>150000</td>\n",
       "      <td>Sector 3, Uttara, Dhaka</td>\n",
       "      <td>Building</td>\n",
       "      <td>A 4500 Square Feet Full Building Ready For Ren...</td>\n",
       "      <td>5.0</td>\n",
       "      <td>5.0</td>\n",
       "      <td>4500</td>\n",
       "      <td>NaN</td>\n",
       "      <td>NaN</td>\n",
       "    </tr>\n",
       "    <tr>\n",
       "      <th>3</th>\n",
       "      <td>{\"@context\":\"https://schema.org\",\"@type\":\"Apar...</td>\n",
       "      <td>https://www.bproperty.com/en/property/details-...</td>\n",
       "      <td>45000</td>\n",
       "      <td>Block F, Bashundhara R-A, Dhaka</td>\n",
       "      <td>Apartment</td>\n",
       "      <td>Tastefully Designed This 3-Bedroom Apartment I...</td>\n",
       "      <td>3.0</td>\n",
       "      <td>3.0</td>\n",
       "      <td>1850</td>\n",
       "      <td>NaN</td>\n",
       "      <td>NaN</td>\n",
       "    </tr>\n",
       "    <tr>\n",
       "      <th>4</th>\n",
       "      <td>{\"@context\":\"https://schema.org\",\"@type\":\"Apar...</td>\n",
       "      <td>https://www.bproperty.com/en/property/details-...</td>\n",
       "      <td>48000</td>\n",
       "      <td>Sector 3, Uttara, Dhaka</td>\n",
       "      <td>Apartment</td>\n",
       "      <td>2700 Sq Ft Apartment Is Ready For Rent In Uttara</td>\n",
       "      <td>4.0</td>\n",
       "      <td>4.0</td>\n",
       "      <td>2700</td>\n",
       "      <td>&lt;source type=\"image/webp\" srcSet=https://image...</td>\n",
       "      <td>&lt;source type=\"image/webp\" srcSet=https://image...</td>\n",
       "    </tr>\n",
       "  </tbody>\n",
       "</table>\n",
       "</div>"
      ],
      "text/plain": [
       "                                               Brief  \\\n",
       "0  {\"@context\":\"https://schema.org\",\"@type\":\"Apar...   \n",
       "1  {\"@context\":\"https://schema.org\",\"@type\":\"Apar...   \n",
       "2  {\"@context\":\"https://schema.org\",\"@type\":\"Resi...   \n",
       "3  {\"@context\":\"https://schema.org\",\"@type\":\"Apar...   \n",
       "4  {\"@context\":\"https://schema.org\",\"@type\":\"Apar...   \n",
       "\n",
       "                                                Link   Price  \\\n",
       "0  https://www.bproperty.com/en/property/details-...   45000   \n",
       "1  https://www.bproperty.com/en/property/details-...   25000   \n",
       "2  https://www.bproperty.com/en/property/details-...  150000   \n",
       "3  https://www.bproperty.com/en/property/details-...   45000   \n",
       "4  https://www.bproperty.com/en/property/details-...   48000   \n",
       "\n",
       "                            Adress       Type  \\\n",
       "0                 Dhanmondi, Dhaka  Apartment   \n",
       "1  Block I, Bashundhara R-A, Dhaka  Apartment   \n",
       "2          Sector 3, Uttara, Dhaka   Building   \n",
       "3  Block F, Bashundhara R-A, Dhaka  Apartment   \n",
       "4          Sector 3, Uttara, Dhaka  Apartment   \n",
       "\n",
       "                                             Details  Beds  Bath  Size  \\\n",
       "0  1616 Sq Ft Nice Apartment Is For Rent In Dhanm...   3.0   3.0  1616   \n",
       "1  A Must See This Apartment For Rent Is All Set ...   3.0   4.0  1500   \n",
       "2  A 4500 Square Feet Full Building Ready For Ren...   5.0   5.0  4500   \n",
       "3  Tastefully Designed This 3-Bedroom Apartment I...   3.0   3.0  1850   \n",
       "4   2700 Sq Ft Apartment Is Ready For Rent In Uttara   4.0   4.0  2700   \n",
       "\n",
       "                                          Image Link  \\\n",
       "0                                                NaN   \n",
       "1                                                NaN   \n",
       "2                                                NaN   \n",
       "3                                                NaN   \n",
       "4  <source type=\"image/webp\" srcSet=https://image...   \n",
       "\n",
       "                                        Image Link 2  \n",
       "0                                                NaN  \n",
       "1                                                NaN  \n",
       "2                                                NaN  \n",
       "3                                                NaN  \n",
       "4  <source type=\"image/webp\" srcSet=https://image...  "
      ]
     },
     "execution_count": 7,
     "metadata": {},
     "output_type": "execute_result"
    }
   ],
   "source": [
    "#Load Web Scrapping Data Data\n",
    "Webscrapped_data = pd.read_csv('BpropertyWebScrapping.csv') # raw_data is the panda's dataframe\n",
    "\n",
    "# print the shape\n",
    "print(Webscrapped_data.shape)\n",
    "\n",
    "#runs the first 5 rows\n",
    "Webscrapped_data.head()"
   ]
  },
  {
   "cell_type": "code",
   "execution_count": 8,
   "id": "54206891",
   "metadata": {},
   "outputs": [
    {
     "name": "stdout",
     "output_type": "stream",
     "text": [
      "(38189, 15)\n"
     ]
    },
    {
     "data": {
      "text/plain": [
       "<bound method NDFrame.head of                                                    Brief  \\\n",
       "0      {\"@context\":\"https://schema.org\",\"@type\":\"Apar...   \n",
       "1      {\"@context\":\"https://schema.org\",\"@type\":\"Apar...   \n",
       "2      {\"@context\":\"https://schema.org\",\"@type\":\"Apar...   \n",
       "3      {\"@context\":\"https://schema.org\",\"@type\":\"Apar...   \n",
       "4      {\"@context\":\"https://schema.org\",\"@type\":\"Apar...   \n",
       "...                                                  ...   \n",
       "38184  {\"@context\":\"https://schema.org\",\"@type\":\"Apar...   \n",
       "38185  {\"@context\":\"https://schema.org\",\"@type\":\"Apar...   \n",
       "38186  {\"@context\":\"https://schema.org\",\"@type\":\"Apar...   \n",
       "38187  {\"@context\":\"https://schema.org\",\"@type\":\"Apar...   \n",
       "38188  {\"@context\":\"https://schema.org\",\"@type\":\"Apar...   \n",
       "\n",
       "                                                    Link   Price  \\\n",
       "0      https://www.bproperty.com/en/property/details-...   45000   \n",
       "1      https://www.bproperty.com/en/property/details-...   75000   \n",
       "2      https://www.bproperty.com/en/property/details-...  120000   \n",
       "3      https://www.bproperty.com/en/property/details-...   52500   \n",
       "4      https://www.bproperty.com/en/property/details-...   30000   \n",
       "...                                                  ...     ...   \n",
       "38184  https://www.bproperty.com/en/property/details-...   10000   \n",
       "38185  https://www.bproperty.com/en/property/details-...    8000   \n",
       "38186  https://www.bproperty.com/en/property/details-...    9000   \n",
       "38187  https://www.bproperty.com/en/property/details-...    8500   \n",
       "38188  https://www.bproperty.com/en/property/details-...    9000   \n",
       "\n",
       "                                                  Adress       Type  \\\n",
       "0                                       Dhanmondi, Dhaka  Apartment   \n",
       "1                                       Dhanmondi, Dhaka  Apartment   \n",
       "2                                       Dhanmondi, Dhaka  Apartment   \n",
       "3                                       Dhanmondi, Dhaka  Apartment   \n",
       "4                                       Dhanmondi, Dhaka  Apartment   \n",
       "...                                                  ...        ...   \n",
       "38184  Block C, Dakkhin Paikpara, Paikpara, Mirpur, D...  Apartment   \n",
       "38185                 Kalibari, Rajarbag, Bashabo, Dhaka  Apartment   \n",
       "38186                    Hijla, Amin Bazar, Savar, Dhaka  Apartment   \n",
       "38187                  Ahmednagar, Sarulia, Demra, Dhaka  Apartment   \n",
       "38188                            Lalkuthi, Mirpur, Dhaka  Apartment   \n",
       "\n",
       "                                                 Details  Beds  Bath  Size  \\\n",
       "0      1616 Sq Ft Nice Apartment Is For Rent In Dhanm...   3.0   3.0  1616   \n",
       "1      Impressive Apartment Of 3132 Sq Ft Is Up For R...   4.0   4.0  3132   \n",
       "2      A Ready 1800 Sq. ft Full Furnished Apartment F...   3.0   4.0  1800   \n",
       "3      This Wonderful Flat Is Set For Rent With An Am...   3.0   3.0  1300   \n",
       "4      Positioned At Dhanmondi, Road No 8a, 1250 Sq F...   3.0   3.0  1250   \n",
       "...                                                  ...   ...   ...   ...   \n",
       "38184  In Dakkhin Paikpara, This 600 Sq Ft Residence ...   2.0   1.0   600   \n",
       "38185  A 600 Sq Ft Flat Can Be Found In Rajarbag For ...   2.0   1.0   600   \n",
       "38186  In This Serene Neighborhood Of Amin Bazar A 80...   3.0   1.0   800   \n",
       "38187  Be the resident of a 750 SQ FT residential fla...   3.0   2.0   750   \n",
       "38188    Ready home 550 SQ FT is now to Rent in Lalkuthi   2.0   1.0   550   \n",
       "\n",
       "                                              Image Link  \\\n",
       "0                                                    NaN   \n",
       "1      <source type=\"image/webp\" srcSet=https://image...   \n",
       "2      <source type=\"image/webp\" srcSet=https://image...   \n",
       "3      <source type=\"image/webp\" srcSet=https://image...   \n",
       "4      <source type=\"image/webp\" srcSet=https://image...   \n",
       "...                                                  ...   \n",
       "38184  <source type=\"image/webp\" srcSet=https://image...   \n",
       "38185  <source type=\"image/webp\" srcSet=https://image...   \n",
       "38186  <source type=\"image/webp\" srcSet=https://image...   \n",
       "38187  <source type=\"image/webp\" srcSet=https://image...   \n",
       "38188  <source type=\"image/webp\" srcSet=https://image...   \n",
       "\n",
       "                                            Image Link 2  \\\n",
       "0                                                    NaN   \n",
       "1      <source type=\"image/webp\" srcSet=https://image...   \n",
       "2      <source type=\"image/webp\" srcSet=https://image...   \n",
       "3      <source type=\"image/webp\" srcSet=https://image...   \n",
       "4      <source type=\"image/webp\" srcSet=https://image...   \n",
       "...                                                  ...   \n",
       "38184  <source type=\"image/webp\" srcSet=https://image...   \n",
       "38185  <source type=\"image/webp\" srcSet=https://image...   \n",
       "38186  <source type=\"image/webp\" srcSet=https://image...   \n",
       "38187  <source type=\"image/webp\" srcSet=https://image...   \n",
       "38188  <source type=\"image/webp\" srcSet=https://image...   \n",
       "\n",
       "       Educational Institute  Restaurants  Medical Service  Parks  \n",
       "0                       50.0         50.0             20.0   50.0  \n",
       "1                       50.0         50.0             20.0   50.0  \n",
       "2                       50.0         50.0             20.0   50.0  \n",
       "3                       50.0         50.0             20.0   50.0  \n",
       "4                       50.0         50.0             20.0   50.0  \n",
       "...                      ...          ...              ...    ...  \n",
       "38184                   50.0         27.0              6.0    8.0  \n",
       "38185                   32.0         24.0              6.0   27.0  \n",
       "38186                    1.0          0.0              0.0    0.0  \n",
       "38187                    0.0          0.0              0.0    2.0  \n",
       "38188                    9.0         12.0              6.0    8.0  \n",
       "\n",
       "[38189 rows x 15 columns]>"
      ]
     },
     "execution_count": 8,
     "metadata": {},
     "output_type": "execute_result"
    }
   ],
   "source": [
    "#Merge Both Dataset\n",
    "Primarydata = pd.merge(Webscrapped_data,Manual_data)\n",
    "print(Primarydata.shape)\n",
    "Primarydata.head\n",
    "\n"
   ]
  },
  {
   "cell_type": "markdown",
   "id": "863475fb",
   "metadata": {},
   "source": [
    "\"Primarydata\" Now our primary dataset is ready now it is time for some preprocessing and drop all the unnecessary data like image link, large catagorical details etc."
   ]
  },
  {
   "cell_type": "markdown",
   "id": "49b1388b",
   "metadata": {},
   "source": [
    "### 2. Preprocessing\n",
    "Here we have droped the following unnecessary features and we have sorted the address a little bit.\n",
    "\n",
    "1. Brief \t\n",
    "2. Link\n",
    "3. Details\n",
    "4. Image Link\n",
    "5. Image Link 2"
   ]
  },
  {
   "cell_type": "code",
   "execution_count": null,
   "id": "2b77851c",
   "metadata": {},
   "outputs": [],
   "source": []
  },
  {
   "cell_type": "markdown",
   "id": "bc35f080",
   "metadata": {},
   "source": [
    "### 3. Exploratory Data"
   ]
  },
  {
   "cell_type": "markdown",
   "id": "41f89ae5",
   "metadata": {},
   "source": [
    "### 4. Data Cleaning"
   ]
  },
  {
   "cell_type": "markdown",
   "id": "d0347916",
   "metadata": {},
   "source": [
    "### 5. Data Encode"
   ]
  },
  {
   "cell_type": "markdown",
   "id": "3a0a1f6b",
   "metadata": {},
   "source": [
    "### 6. Features Selection"
   ]
  },
  {
   "cell_type": "markdown",
   "id": "968df4a8",
   "metadata": {},
   "source": [
    "### 7. Data Split"
   ]
  },
  {
   "cell_type": "markdown",
   "id": "61f58d2c",
   "metadata": {},
   "source": [
    "### 8. Data Scaling"
   ]
  },
  {
   "cell_type": "markdown",
   "id": "5a42028a",
   "metadata": {},
   "source": [
    "### 9. Train Model "
   ]
  },
  {
   "cell_type": "code",
   "execution_count": null,
   "id": "772d86ab",
   "metadata": {},
   "outputs": [],
   "source": []
  }
 ],
 "metadata": {
  "kernelspec": {
   "display_name": "Python 3",
   "language": "python",
   "name": "python3"
  },
  "language_info": {
   "codemirror_mode": {
    "name": "ipython",
    "version": 3
   },
   "file_extension": ".py",
   "mimetype": "text/x-python",
   "name": "python",
   "nbconvert_exporter": "python",
   "pygments_lexer": "ipython3",
   "version": "3.8.8"
  }
 },
 "nbformat": 4,
 "nbformat_minor": 5
}
