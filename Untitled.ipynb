{
 "cells": [
  {
   "cell_type": "markdown",
   "id": "1c0c8fe6",
   "metadata": {},
   "source": [
    "# House Rent Prediction"
   ]
  },
  {
   "cell_type": "markdown",
   "id": "7084869a",
   "metadata": {},
   "source": [
    "by Md. Saif Ahammod Khan"
   ]
  },
  {
   "cell_type": "markdown",
   "id": "0c3e7e1c",
   "metadata": {},
   "source": [
    "### 1. Import liberary"
   ]
  },
  {
   "cell_type": "code",
   "execution_count": 2,
   "id": "c1bb083a",
   "metadata": {},
   "outputs": [],
   "source": [
    "import pandas as pd"
   ]
  },
  {
   "cell_type": "markdown",
   "id": "b38065d1",
   "metadata": {},
   "source": [
    "### 2. Read the Raw Data in File From CSV"
   ]
  },
  {
   "cell_type": "code",
   "execution_count": 3,
   "id": "2c8bfe19",
   "metadata": {},
   "outputs": [
    {
     "name": "stdout",
     "output_type": "stream",
     "text": [
      "(90234, 12)\n"
     ]
    },
    {
     "data": {
      "text/html": [
       "<div>\n",
       "<style scoped>\n",
       "    .dataframe tbody tr th:only-of-type {\n",
       "        vertical-align: middle;\n",
       "    }\n",
       "\n",
       "    .dataframe tbody tr th {\n",
       "        vertical-align: top;\n",
       "    }\n",
       "\n",
       "    .dataframe thead th {\n",
       "        text-align: right;\n",
       "    }\n",
       "</style>\n",
       "<table border=\"1\" class=\"dataframe\">\n",
       "  <thead>\n",
       "    <tr style=\"text-align: right;\">\n",
       "      <th></th>\n",
       "      <th>Unnamed: 0</th>\n",
       "      <th>link</th>\n",
       "      <th>sqft</th>\n",
       "      <th>rent</th>\n",
       "      <th>bedroom</th>\n",
       "      <th>address1</th>\n",
       "      <th>address2</th>\n",
       "      <th>address3</th>\n",
       "      <th>bathroom</th>\n",
       "      <th>address</th>\n",
       "      <th>lat</th>\n",
       "      <th>lng</th>\n",
       "    </tr>\n",
       "  </thead>\n",
       "  <tbody>\n",
       "    <tr>\n",
       "      <th>0</th>\n",
       "      <td>0</td>\n",
       "      <td>https://www.bproperty.com/en/property/details-...</td>\n",
       "      <td>1200</td>\n",
       "      <td>12000</td>\n",
       "      <td>2</td>\n",
       "      <td>North Bagbari Road</td>\n",
       "      <td>Baghbari</td>\n",
       "      <td>Sylhet</td>\n",
       "      <td>2</td>\n",
       "      <td>North Bagbari Road,Baghbari,Sylhet</td>\n",
       "      <td>24.90770</td>\n",
       "      <td>91.85030</td>\n",
       "    </tr>\n",
       "    <tr>\n",
       "      <th>1</th>\n",
       "      <td>1</td>\n",
       "      <td>https://www.bproperty.com/en/property/details-...</td>\n",
       "      <td>1200</td>\n",
       "      <td>12500</td>\n",
       "      <td>2</td>\n",
       "      <td>North Bagbari Road</td>\n",
       "      <td>Baghbari</td>\n",
       "      <td>Sylhet</td>\n",
       "      <td>2</td>\n",
       "      <td>North Bagbari Road,Baghbari,Sylhet</td>\n",
       "      <td>24.90770</td>\n",
       "      <td>91.85030</td>\n",
       "    </tr>\n",
       "    <tr>\n",
       "      <th>2</th>\n",
       "      <td>2</td>\n",
       "      <td>https://www.bproperty.com/en/property/details-...</td>\n",
       "      <td>1300</td>\n",
       "      <td>12500</td>\n",
       "      <td>3</td>\n",
       "      <td>North Bagbari Road</td>\n",
       "      <td>Baghbari</td>\n",
       "      <td>Sylhet</td>\n",
       "      <td>2</td>\n",
       "      <td>North Bagbari Road,Baghbari,Sylhet</td>\n",
       "      <td>24.90770</td>\n",
       "      <td>91.85030</td>\n",
       "    </tr>\n",
       "    <tr>\n",
       "      <th>3</th>\n",
       "      <td>3</td>\n",
       "      <td>https://www.bproperty.com/en/property/details-...</td>\n",
       "      <td>1300</td>\n",
       "      <td>13000</td>\n",
       "      <td>3</td>\n",
       "      <td>North Bagbari Road</td>\n",
       "      <td>Baghbari</td>\n",
       "      <td>Sylhet</td>\n",
       "      <td>2</td>\n",
       "      <td>North Bagbari Road,Baghbari,Sylhet</td>\n",
       "      <td>24.90770</td>\n",
       "      <td>91.85030</td>\n",
       "    </tr>\n",
       "    <tr>\n",
       "      <th>4</th>\n",
       "      <td>4</td>\n",
       "      <td>https://www.bproperty.com/en/property/details-...</td>\n",
       "      <td>1200</td>\n",
       "      <td>12000</td>\n",
       "      <td>3</td>\n",
       "      <td>Matuail</td>\n",
       "      <td>Demra</td>\n",
       "      <td>Dhaka</td>\n",
       "      <td>2</td>\n",
       "      <td>Matuail,Demra,Dhaka</td>\n",
       "      <td>23.73037</td>\n",
       "      <td>90.49787</td>\n",
       "    </tr>\n",
       "  </tbody>\n",
       "</table>\n",
       "</div>"
      ],
      "text/plain": [
       "   Unnamed: 0                                               link  sqft   rent  \\\n",
       "0           0  https://www.bproperty.com/en/property/details-...  1200  12000   \n",
       "1           1  https://www.bproperty.com/en/property/details-...  1200  12500   \n",
       "2           2  https://www.bproperty.com/en/property/details-...  1300  12500   \n",
       "3           3  https://www.bproperty.com/en/property/details-...  1300  13000   \n",
       "4           4  https://www.bproperty.com/en/property/details-...  1200  12000   \n",
       "\n",
       "   bedroom            address1  address2 address3  bathroom  \\\n",
       "0        2  North Bagbari Road  Baghbari   Sylhet         2   \n",
       "1        2  North Bagbari Road  Baghbari   Sylhet         2   \n",
       "2        3  North Bagbari Road  Baghbari   Sylhet         2   \n",
       "3        3  North Bagbari Road  Baghbari   Sylhet         2   \n",
       "4        3             Matuail     Demra    Dhaka         2   \n",
       "\n",
       "                              address       lat       lng  \n",
       "0  North Bagbari Road,Baghbari,Sylhet  24.90770  91.85030  \n",
       "1  North Bagbari Road,Baghbari,Sylhet  24.90770  91.85030  \n",
       "2  North Bagbari Road,Baghbari,Sylhet  24.90770  91.85030  \n",
       "3  North Bagbari Road,Baghbari,Sylhet  24.90770  91.85030  \n",
       "4                 Matuail,Demra,Dhaka  23.73037  90.49787  "
      ]
     },
     "execution_count": 3,
     "metadata": {},
     "output_type": "execute_result"
    }
   ],
   "source": [
    "raw_data = pd.read_csv('House Rent BD Bproperty v1.csv') # raw_data is the panda's dataframe\n",
    "\n",
    "# print the shape\n",
    "print(raw_data.shape)\n",
    "\n",
    "#runs the first 5 rows\n",
    "raw_data.head()"
   ]
  },
  {
   "cell_type": "code",
   "execution_count": null,
   "id": "542eeebb",
   "metadata": {},
   "outputs": [],
   "source": []
  }
 ],
 "metadata": {
  "kernelspec": {
   "display_name": "Python 3",
   "language": "python",
   "name": "python3"
  },
  "language_info": {
   "codemirror_mode": {
    "name": "ipython",
    "version": 3
   },
   "file_extension": ".py",
   "mimetype": "text/x-python",
   "name": "python",
   "nbconvert_exporter": "python",
   "pygments_lexer": "ipython3",
   "version": "3.8.8"
  }
 },
 "nbformat": 4,
 "nbformat_minor": 5
}
